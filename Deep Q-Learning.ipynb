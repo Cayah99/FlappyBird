{
 "cells": [
  {
   "cell_type": "markdown",
   "metadata": {},
   "source": [
    "### Import Packages"
   ]
  },
  {
   "cell_type": "code",
   "execution_count": null,
   "metadata": {},
   "outputs": [],
   "source": [
    "import flappy_bird_gym\n",
    "import numpy as np\n",
    "from collections import deque\n",
    "import random\n",
    "\n",
    "import matplotlib.pyplot as plt\n",
    "import skimage as skimage\n",
    "from skimage import transform\n",
    "\n",
    "import tensorflow as tf\n",
    "from keras.models import Sequential\n",
    "from tensorflow.keras.layers import Conv2D, Flatten, Dense, Activation\n",
    "\n",
    "import json\n",
    "import time"
   ]
  },
  {
   "cell_type": "markdown",
   "metadata": {},
   "source": [
    "### Step 1: Developing Convolutional Neural Network (CNN)"
   ]
  },
  {
   "cell_type": "code",
   "execution_count": null,
   "metadata": {},
   "outputs": [],
   "source": [
    "class Model:\n",
    "    def __init__(self):\n",
    "        self.input_shape = (80,80,4)\n",
    "        self.activation = 'relu'\n",
    "        self.learning_rate = 0.005\n",
    "        self.kernel_init = tf.keras.initializers.HeUniform()\n",
    "        self.optimizer = tf.keras.optimizers.Adam(learning_rate=self.learning_rate)\n",
    "        self.loss = tf.keras.losses.CategoricalCrossentropy()\n",
    "\n",
    "    def convolution_model(self):\n",
    "        model = Sequential()\n",
    "        model.add(tf.keras.layers.InputLayer(input_shape=self.input_shape))\n",
    "        model.add(tf.keras.layers.Conv2D(32, kernel_size=(8,8), strides=(4,4), padding='same', \n",
    "                                      activation = self.activation))\n",
    "        model.add(tf.keras.layers.Conv2D(64, kernel_size=(4,4), strides=(2,2), padding='same', \n",
    "                                      activation = self.activation))\n",
    "        model.add(tf.keras.layers.Conv2D(64, kernel_size=(3,3), strides=(1,1), padding='same', \n",
    "                                      activation =self.activation))\n",
    "        model.add(tf.keras.layers.Flatten())\n",
    "        model.add(tf.keras.layers.Dense(512,kernel_initializer=self.kernel_init))\n",
    "        model.add(tf.keras.layers.Dense(2,activation='sigmoid')) \n",
    "        model.compile(loss=self.loss, optimizer= self.optimizer, \n",
    "                                  metrics=[tf.keras.metrics.CategoricalAccuracy()])\n",
    "        return model"
   ]
  },
  {
   "cell_type": "code",
   "execution_count": null,
   "metadata": {},
   "outputs": [],
   "source": [
    "model = Model()\n",
    "model.convolution_model().summary()"
   ]
  },
  {
   "cell_type": "markdown",
   "metadata": {},
   "source": [
    "### Step 2: Programming a function for Deep Q-Learning "
   ]
  },
  {
   "cell_type": "code",
   "execution_count": null,
   "metadata": {},
   "outputs": [],
   "source": [
    "def DQN(env, model, observation, epsilon, final_epsilon, batch, gamma, games, amount_frame):\n",
    "    global step_action\n",
    "    global Q_state\n",
    "    global step_reward\n",
    "    global step_state\n",
    "    global mini_batch\n",
    "    global image_reshape_keras_next\n",
    "    global image_reshape_keras\n",
    "    global nextstep_state\n",
    "    global max_Q\n",
    "    \n",
    "    dict_agent = {}\n",
    "    \n",
    "    replay_memory = deque()\n",
    "    actions = env.action_space.n\n",
    "    game = 0\n",
    "    \n",
    "    action = [1,0]\n",
    "    env.reset()\n",
    "    obs, reward, done, info = env.step(action)\n",
    "    \n",
    "    image = skimage.color.rgb2gray(obs)\n",
    "    image = skimage.transform.resize(image,(80,80))\n",
    "    image = skimage.exposure.rescale_intensity(image,out_range=(0,255))\n",
    "    image = image / 255.0\n",
    "    un, cts = np.unique(image.reshape(6400),return_counts=True)\n",
    "    dict(zip(un,cts))\n",
    "\n",
    "    image = image.reshape(6400)\n",
    "    image = np.where((image >= 0.8),1,image)\n",
    "    image = image.reshape(80,80)\n",
    "    image = np.stack((image, image, image,image), axis=2)\n",
    "    image_reshape_keras = image.reshape(1, image.shape[0], image.shape[1], image.shape[2]) \n",
    "    \n",
    "    step = 0\n",
    "    while game < games:\n",
    "        done = False\n",
    "        \n",
    "        while not done:\n",
    "            loss = 0\n",
    "            Q_state = 0\n",
    "            next_reward = 0\n",
    "            action_step = 1\n",
    "            if random.random() <= epsilon:\n",
    "                if np.random.choice(actions):\n",
    "                    action_step = 1\n",
    "                else:\n",
    "                    action_step = 0\n",
    "            else:\n",
    "                Q = model.predict(image_reshape_keras)\n",
    "                max_Q = np.argmax(Q)\n",
    "                if max_Q:\n",
    "                    action_step = 1\n",
    "                else:\n",
    "                    action_step = 0\n",
    "    \n",
    "\n",
    "            if epsilon > final_epsilon and step > observation:\n",
    "                epsilon -=(epsilon - final_epsilon) / amount_frame\n",
    "                print('Decrease with:',(epsilon - final_epsilon) / amount_frame)\n",
    "\n",
    "            next_obs, next_reward, done, info = env.step(action_step)\n",
    "\n",
    "            image_next = skimage.color.rgb2gray(next_obs)\n",
    "            image_next = skimage.transform.resize(image_next,(80,80))\n",
    "            image_next = skimage.exposure.rescale_intensity(image_next,out_range=(0,255))\n",
    "            image_next = image_next / 255.0\n",
    "            image_next = image_next.reshape(6400)\n",
    "            image_next = np.where((image_next >= 0.8),1,image_next)\n",
    "            image_next = image_next.reshape(80,80)\n",
    "            image_next = image_next.reshape(1, image_next.shape[0], image_next.shape[1], 1) \n",
    "            image_reshape_keras_next = np.append(image_next, image_reshape_keras[:, :, :, :3], axis=3)\n",
    "            \n",
    "            replay_memory.append((image_reshape_keras, action_step, next_reward, image_reshape_keras_next, done))\n",
    "            if len(replay_memory) > 10000:\n",
    "                replay_memory.popleft()\n",
    "\n",
    "            if step > observation:\n",
    "                mini_batch = random.sample(replay_memory, batch)\n",
    "                step_state, step_action, step_reward, nextstep_state, done = zip(*mini_batch)\n",
    "                step_state = np.concatenate(step_state)\n",
    "                nextstep_state = np.concatenate(nextstep_state)\n",
    "                target = model.predict(step_state)\n",
    "                Q_state = model.predict(nextstep_state)\n",
    "                target[range(batch), step_action] = step_reward + gamma*np.max(Q_state, axis=1)*np.invert(done) \n",
    "                loss += model.train_on_batch(step_state, target)\n",
    "            \n",
    "            env.render()\n",
    "            step = step + 1\n",
    "            dict_agent[step] = {'Epsilon': epsilon, 'Action': action_step, 'Reward': next_reward, 'Score': info, 'Q_max': np.max(Q_state), 'Loss': loss}\n",
    "            image_reshape_keras = image_reshape_keras_next\n",
    "            \n",
    "\n",
    "            if step % 1000 == 0:\n",
    "                model.save_weights('convolutional_model.h5', overwrite=True)\n",
    "                with open('convolutional_model.json', 'w') as output_model:\n",
    "                    json.dump(model.to_json(), output_model)  \n",
    "                \n",
    "        \n",
    "        print(dict_agent[step], game, step)\n",
    "        game = game + 1\n",
    "        env.reset()"
   ]
  },
  {
   "cell_type": "markdown",
   "metadata": {},
   "source": [
    "### Step 3: Playing the game Flappy Bird with the function"
   ]
  },
  {
   "cell_type": "code",
   "execution_count": null,
   "metadata": {},
   "outputs": [],
   "source": [
    "env = flappy_bird_gym.make(\"FlappyBird-rgb-v0\")\n",
    "model = Model()\n",
    "model = model.convolution_model()\n",
    "observation = 2000\n",
    "epsilon = 0.99\n",
    "final_epsilon = 0.1\n",
    "batch = 32\n",
    "gamma = 0.99\n",
    "games = 500000\n",
    "amount_frame = 30000\n",
    "\n",
    "DQN(env, model, observation, epsilon, final_epsilon, batch, gamma, games, amount_frame)"
   ]
  },
  {
   "cell_type": "markdown",
   "metadata": {},
   "source": [
    "### Step 4: Evaluating the model used for the game Flappy Bird"
   ]
  },
  {
   "cell_type": "code",
   "execution_count": null,
   "metadata": {},
   "outputs": [],
   "source": []
  }
 ],
 "metadata": {
  "kernelspec": {
   "display_name": "Python 3",
   "language": "python",
   "name": "python3"
  },
  "language_info": {
   "codemirror_mode": {
    "name": "ipython",
    "version": 3
   },
   "file_extension": ".py",
   "mimetype": "text/x-python",
   "name": "python",
   "nbconvert_exporter": "python",
   "pygments_lexer": "ipython3",
   "version": "3.6.5"
  }
 },
 "nbformat": 4,
 "nbformat_minor": 2
}
